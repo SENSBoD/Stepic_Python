{
 "cells": [
  {
   "cell_type": "markdown",
   "metadata": {},
   "source": [
    "### Функции"
   ]
  },
  {
   "cell_type": "code",
   "execution_count": 2,
   "metadata": {},
   "outputs": [],
   "source": [
    "def min2(a, b):\n",
    "    if a <= b:\n",
    "        return a\n",
    "    else:\n",
    "        return b"
   ]
  },
  {
   "cell_type": "code",
   "execution_count": 4,
   "metadata": {},
   "outputs": [
    {
     "name": "stdout",
     "output_type": "stream",
     "text": [
      "25\n"
     ]
    }
   ],
   "source": [
    "m = min2(42, 30)\n",
    "print(min2(min2(42, 30), 25))"
   ]
  },
  {
   "cell_type": "code",
   "execution_count": 5,
   "metadata": {},
   "outputs": [
    {
     "data": {
      "text/plain": [
       "10555"
      ]
     },
     "execution_count": 5,
     "metadata": {},
     "output_type": "execute_result"
    }
   ],
   "source": [
    "def f(n):\n",
    "    return n * 10 + 5\n",
    "f(f(f(10)))"
   ]
  },
  {
   "cell_type": "code",
   "execution_count": 6,
   "metadata": {},
   "outputs": [
    {
     "name": "stdout",
     "output_type": "stream",
     "text": [
      "5\n",
      "3\n",
      "3\n",
      "[5, 3, 6, 10]\n"
     ]
    }
   ],
   "source": [
    "def min(*a):\n",
    "    m = a[0]\n",
    "    for x in a:\n",
    "        if m > x:\n",
    "            m = x\n",
    "    return m\n",
    "\n",
    "print(min(5))\n",
    "print(min(5, 3))\n",
    "print(min(5, 3, 6, 10))\n",
    "print(min([5, 3, 6, 10]))"
   ]
  },
  {
   "cell_type": "code",
   "execution_count": 9,
   "metadata": {},
   "outputs": [
    {
     "name": "stdout",
     "output_type": "stream",
     "text": [
      "[2, 3, 4]\n",
      "[2, 5, 8, 11, 14]\n",
      "[15, 12, 9, 6, 3]\n",
      "[4, 6, 8]\n"
     ]
    }
   ],
   "source": [
    "def my_range(start, stop, step=1):\n",
    "    res = []\n",
    "    if step > 0:\n",
    "        x = start\n",
    "        while x < stop:\n",
    "            res += [x]\n",
    "            x += step\n",
    "    elif step < 0:\n",
    "        x = start\n",
    "        while x > stop:\n",
    "            res += [x]\n",
    "            x += step\n",
    "    return res\n",
    "\n",
    "print(my_range(2, 5))\n",
    "print(my_range(2, 15, 3))\n",
    "print(my_range(15, 2, -3))\n",
    "\n",
    "print(my_range(stop = 10, start = 4, step = 2))"
   ]
  },
  {
   "cell_type": "markdown",
   "metadata": {},
   "source": [
    "### Локальні змінні"
   ]
  },
  {
   "cell_type": "code",
   "execution_count": 11,
   "metadata": {},
   "outputs": [
    {
     "ename": "NameError",
     "evalue": "name 'a' is not defined",
     "output_type": "error",
     "traceback": [
      "\u001b[1;31m---------------------------------------------------------------------------\u001b[0m",
      "\u001b[1;31mNameError\u001b[0m                                 Traceback (most recent call last)",
      "\u001b[1;32m<ipython-input-11-7a6d666f1e5c>\u001b[0m in \u001b[0;36m<module>\u001b[1;34m()\u001b[0m\n\u001b[0;32m      4\u001b[0m \u001b[1;33m\u001b[0m\u001b[0m\n\u001b[0;32m      5\u001b[0m \u001b[0minit_values\u001b[0m\u001b[1;33m(\u001b[0m\u001b[1;33m)\u001b[0m\u001b[1;33m\u001b[0m\u001b[0m\n\u001b[1;32m----> 6\u001b[1;33m \u001b[0mprint\u001b[0m\u001b[1;33m(\u001b[0m\u001b[0ma\u001b[0m \u001b[1;33m+\u001b[0m \u001b[0mb\u001b[0m\u001b[1;33m)\u001b[0m  \u001b[1;31m# Ошибка, переменные a и b не объявлены\u001b[0m\u001b[1;33m\u001b[0m\u001b[0m\n\u001b[0m",
      "\u001b[1;31mNameError\u001b[0m: name 'a' is not defined"
     ]
    }
   ],
   "source": [
    "def init_values():\n",
    "    a = 100\n",
    "    b = 200\n",
    "    \n",
    "init_values()\n",
    "print(a + b)  # Ошибка, переменные a и b не объявлены"
   ]
  },
  {
   "cell_type": "code",
   "execution_count": 16,
   "metadata": {},
   "outputs": [
    {
     "name": "stdout",
     "output_type": "stream",
     "text": [
      "300\n"
     ]
    }
   ],
   "source": [
    "def init_values():\n",
    "    global a\n",
    "    global b\n",
    "    a = 100\n",
    "    b = 200\n",
    "    \n",
    "init_values()\n",
    "print(a + b)"
   ]
  },
  {
   "cell_type": "code",
   "execution_count": 17,
   "metadata": {},
   "outputs": [
    {
     "name": "stdout",
     "output_type": "stream",
     "text": [
      "0\n"
     ]
    }
   ],
   "source": [
    "def init_values():\n",
    "    a = 100\n",
    "    \n",
    "a = 0\n",
    "init_values()\n",
    "print(a)  # 0"
   ]
  },
  {
   "cell_type": "code",
   "execution_count": 18,
   "metadata": {},
   "outputs": [
    {
     "name": "stdout",
     "output_type": "stream",
     "text": [
      "0\n"
     ]
    }
   ],
   "source": [
    "def init_values(a):\n",
    "    a = 100\n",
    "\n",
    "b = 0\n",
    "init_values(b)\n",
    "print(b)  # 0"
   ]
  },
  {
   "cell_type": "code",
   "execution_count": 21,
   "metadata": {},
   "outputs": [
    {
     "name": "stdout",
     "output_type": "stream",
     "text": [
      "[0]\n"
     ]
    }
   ],
   "source": [
    "def append_zero(xs):\n",
    "    xs.append(0)\n",
    "\n",
    "a = []\n",
    "append_zero(a)\n",
    "print(a)  # [0]"
   ]
  },
  {
   "cell_type": "code",
   "execution_count": 29,
   "metadata": {},
   "outputs": [
    {
     "name": "stdout",
     "output_type": "stream",
     "text": [
      "1\n",
      "-0.5\n"
     ]
    }
   ],
   "source": [
    "def func(x):\n",
    "    if x <= -2:\n",
    "        print(1 - (x + 2) ** 2)\n",
    "    if -2 < x <= 2:\n",
    "        print(-(x / 2))\n",
    "    if x > 2:\n",
    "        print((x - 2) ** 2 + 1)\n",
    "        \n",
    "x = float(input())\n",
    "func(x)"
   ]
  },
  {
   "cell_type": "code",
   "execution_count": 84,
   "metadata": {},
   "outputs": [
    {
     "data": {
      "text/plain": [
       "[2, 3, 4]"
      ]
     },
     "execution_count": 84,
     "metadata": {},
     "output_type": "execute_result"
    }
   ],
   "source": [
    "def modify_list(l):\n",
    "    for i in range(len(l)-1, -1, -1):\n",
    "        if l[i] % 2 != 0:\n",
    "            l.remove(l[i])\n",
    "    for j in range(len(l)):\n",
    "        l[j] = int(l[j] / 2)\n",
    "            \n",
    "a = [1, 3, 4, 6, 7, 8]\n",
    "modify_list(a)\n",
    "a"
   ]
  },
  {
   "cell_type": "markdown",
   "metadata": {},
   "source": [
    "### Множества"
   ]
  },
  {
   "cell_type": "code",
   "execution_count": 2,
   "metadata": {},
   "outputs": [
    {
     "name": "stdout",
     "output_type": "stream",
     "text": [
      "{'apple', 'pear', 'banana', 'orange'}\n",
      "True\n",
      "False\n"
     ]
    }
   ],
   "source": [
    "s = set() # создание пустого множества\n",
    "basket = {'apple', 'orange', 'apple', 'pear', 'orange', 'banana'}\n",
    "print(basket)  \n",
    "print('orange' in basket)  # True\n",
    "print('python' in basket)  # False"
   ]
  },
  {
   "cell_type": "code",
   "execution_count": 92,
   "metadata": {},
   "outputs": [
    {
     "name": "stdout",
     "output_type": "stream",
     "text": [
      "{'apple'}\n",
      "1\n",
      "set()\n",
      "set()\n",
      "set()\n",
      "set()\n"
     ]
    }
   ],
   "source": [
    "element = 'apple'\n",
    "s = basket\n",
    "s.add(element)\n",
    "print(s)\n",
    "print(len(s))\n",
    "s.remove(element)\n",
    "print(s)\n",
    "s.discard(element)\n",
    "print(s)\n",
    "s.clear()\n",
    "print(s)\n",
    "print(basket)"
   ]
  },
  {
   "cell_type": "code",
   "execution_count": 90,
   "metadata": {},
   "outputs": [
    {
     "data": {
      "text/plain": [
       "{0, 1, 3, 5, 6, 7, 9}"
      ]
     },
     "execution_count": 90,
     "metadata": {},
     "output_type": "execute_result"
    }
   ],
   "source": [
    "lst = [1, 1, 3, 5, 6, 7, 7, 3, 9, 0]\n",
    "s = set(lst)\n",
    "s"
   ]
  },
  {
   "cell_type": "markdown",
   "metadata": {},
   "source": [
    "### Словари"
   ]
  },
  {
   "cell_type": "code",
   "execution_count": 106,
   "metadata": {
    "scrolled": true
   },
   "outputs": [
    {
     "name": "stdout",
     "output_type": "stream",
     "text": [
      "239\n",
      "100\n"
     ]
    }
   ],
   "source": [
    "d = dict()\n",
    "d = {}\n",
    "d = {'a': 239, 10: 100}\n",
    "print(d['a'])\n",
    "print(d[10])"
   ]
  },
  {
   "cell_type": "code",
   "execution_count": 95,
   "metadata": {},
   "outputs": [
    {
     "name": "stdout",
     "output_type": "stream",
     "text": [
      "{'sh': 78, 'longer': 'qwerty', 123: 76.9}\n"
     ]
    }
   ],
   "source": [
    "d = dict([(\"sh\",78),(\"longer\",\"qwerty\"),(123,76.9)])\n",
    "print(d)"
   ]
  },
  {
   "cell_type": "code",
   "execution_count": 96,
   "metadata": {},
   "outputs": [
    {
     "name": "stdout",
     "output_type": "stream",
     "text": [
      "{'a': None, 'b': None}\n"
     ]
    }
   ],
   "source": [
    "d = dict.fromkeys([\"a\",\"b\"])\n",
    "print(d)"
   ]
  },
  {
   "cell_type": "code",
   "execution_count": 107,
   "metadata": {},
   "outputs": [
    {
     "name": "stdout",
     "output_type": "stream",
     "text": [
      "True\n",
      "False\n"
     ]
    }
   ],
   "source": [
    "dictionary = d\n",
    "key = 'a'\n",
    "print(key in dictionary)\n",
    "print(key not in dictionary)"
   ]
  },
  {
   "cell_type": "code",
   "execution_count": 108,
   "metadata": {},
   "outputs": [
    {
     "data": {
      "text/plain": [
       "42"
      ]
     },
     "execution_count": 108,
     "metadata": {},
     "output_type": "execute_result"
    }
   ],
   "source": [
    "dictionary[key] = 42\n",
    "dictionary[key]"
   ]
  },
  {
   "cell_type": "code",
   "execution_count": 109,
   "metadata": {},
   "outputs": [
    {
     "name": "stdout",
     "output_type": "stream",
     "text": [
      "100\n"
     ]
    }
   ],
   "source": [
    "print(dictionary.get(10))"
   ]
  },
  {
   "cell_type": "code",
   "execution_count": 110,
   "metadata": {},
   "outputs": [
    {
     "name": "stdout",
     "output_type": "stream",
     "text": [
      "{10: 100}\n"
     ]
    }
   ],
   "source": [
    "del dictionary[key]\n",
    "print(dictionary)"
   ]
  },
  {
   "cell_type": "code",
   "execution_count": 111,
   "metadata": {},
   "outputs": [
    {
     "name": "stdout",
     "output_type": "stream",
     "text": [
      "C A T G "
     ]
    }
   ],
   "source": [
    "d = {'C': 14, 'A': 12, 'T': 9, 'G': 18}\n",
    "for key in d:\n",
    "    print(key, end=' ') "
   ]
  },
  {
   "cell_type": "code",
   "execution_count": 112,
   "metadata": {},
   "outputs": [
    {
     "name": "stdout",
     "output_type": "stream",
     "text": [
      "C A T G "
     ]
    }
   ],
   "source": [
    "for key in d.keys():\n",
    "    print(key, end=' ') "
   ]
  },
  {
   "cell_type": "code",
   "execution_count": 113,
   "metadata": {},
   "outputs": [
    {
     "name": "stdout",
     "output_type": "stream",
     "text": [
      "14 12 9 18 "
     ]
    }
   ],
   "source": [
    "for value in d.values():\n",
    "    print(value, end=' ')"
   ]
  },
  {
   "cell_type": "code",
   "execution_count": 114,
   "metadata": {},
   "outputs": [
    {
     "name": "stdout",
     "output_type": "stream",
     "text": [
      "C 14; A 12; T 9; G 18; "
     ]
    }
   ],
   "source": [
    "for key, value in d.items():\n",
    "    print(key, value, end='; ')"
   ]
  },
  {
   "cell_type": "code",
   "execution_count": 24,
   "metadata": {},
   "outputs": [
    {
     "data": {
      "text/plain": [
       "{2: [239], 6: [100], 8: [1]}"
      ]
     },
     "execution_count": 24,
     "metadata": {},
     "output_type": "execute_result"
    }
   ],
   "source": [
    "d = {2: [239], 6: [100]}\n",
    "def update_dictionary(d, key, value):\n",
    "    if key in d:\n",
    "        d[key] += [value]\n",
    "    elif key*2 in d:\n",
    "        d[key*2] += [value]\n",
    "    else:\n",
    "        d[key*2] = [value]\n",
    "        \n",
    "update_dictionary(d, 4, 1)\n",
    "d"
   ]
  },
  {
   "cell_type": "code",
   "execution_count": 141,
   "metadata": {},
   "outputs": [
    {
     "name": "stdout",
     "output_type": "stream",
     "text": [
      "['as', 'hh', 'asd', 'hh', 'as', 'op', 'l', 'hh']\n",
      "as 2\n",
      "hh 3\n",
      "asd 1\n",
      "op 1\n",
      "l 1\n"
     ]
    }
   ],
   "source": [
    "# s = input().lower().split()\n",
    "s = ['as', 'hh', 'asd', 'hh', 'as', 'op', 'l', 'hh']\n",
    "d = {}\n",
    "print(s)\n",
    "for i in s:\n",
    "    d[i] = s.count(i)\n",
    "#     print(i, end=\" \")\n",
    "#     print(s.count(i))\n",
    "# print(d)\n",
    "for key, value in d.items():\n",
    "    print(key, value)"
   ]
  },
  {
   "cell_type": "code",
   "execution_count": 1,
   "metadata": {
    "scrolled": true
   },
   "outputs": [
    {
     "name": "stdout",
     "output_type": "stream",
     "text": [
      "5\n",
      "5\n",
      "11\n",
      "1\n",
      "2\n",
      "1\n",
      "2\n",
      "5\n",
      "11\n",
      "9\n",
      "47\n"
     ]
    }
   ],
   "source": [
    "d = {5 : 11, 12: 41, 9: 47, 20: 61}\n",
    "def f(x):\n",
    "    return (x + 1)\n",
    "n = int(input())\n",
    "for i in range(n):\n",
    "    x = int(input())\n",
    "    if x in d:\n",
    "        print(d[x])\n",
    "    else:\n",
    "        d[x] = f(x)\n",
    "        print(d[x])\n",
    "# print(d)"
   ]
  },
  {
   "cell_type": "markdown",
   "metadata": {},
   "source": [
    "### Файли"
   ]
  },
  {
   "cell_type": "markdown",
   "metadata": {},
   "source": [
    "### Читання"
   ]
  },
  {
   "cell_type": "code",
   "execution_count": 5,
   "metadata": {},
   "outputs": [
    {
     "data": {
      "text/plain": [
       "'Петров;85;92;78\\n'"
      ]
     },
     "execution_count": 5,
     "metadata": {},
     "output_type": "execute_result"
    }
   ],
   "source": [
    "inf = open('text.txt', 'r')  # open('file.txt')\n",
    "s1 = inf.readline()\n",
    "s2 = inf.readline()\n",
    "inf.close()\n",
    "\n",
    "with open('text.txt') as inf:\n",
    "    s1 = inf.readline()\n",
    "    s2 = inf.readline()\n",
    "    \n",
    "# здесь файл уже закрыт\n",
    "\n",
    "s1"
   ]
  },
  {
   "cell_type": "code",
   "execution_count": 6,
   "metadata": {},
   "outputs": [
    {
     "name": "stdout",
     "output_type": "stream",
     "text": [
      "Петров;85;92;78\n",
      "Сидоров;100;88;94\n",
      "Иванов;58;72;85\n"
     ]
    }
   ],
   "source": [
    "f = open('text.txt', 'r')\n",
    "\n",
    "# for line in f:\n",
    "#     for i in line:\n",
    "#         print(i)\n",
    "# f.close()\n",
    "\n",
    "for line in f:\n",
    "    print(line, end=\"\")\n",
    "\n",
    "f.close()"
   ]
  },
  {
   "cell_type": "code",
   "execution_count": 7,
   "metadata": {},
   "outputs": [
    {
     "name": "stdout",
     "output_type": "stream",
     "text": [
      "Петров;85;92;78\n",
      "Сидоров;100;88;94\n",
      "Иванов;58;72;85\n"
     ]
    }
   ],
   "source": [
    "# Построчное чтение из файла\n",
    "with open('text.txt') as f:\n",
    "    for line in f:\n",
    "        line = line.strip()\n",
    "        print(line)"
   ]
  },
  {
   "cell_type": "code",
   "execution_count": 31,
   "metadata": {},
   "outputs": [],
   "source": [
    "f = open('text.txt', 'r')\n",
    "s = f.readline().strip() # прибирає знаки табуляції\n",
    "f.close()\n",
    "# '\\t abc \\n'.strip()"
   ]
  },
  {
   "cell_type": "code",
   "execution_count": 32,
   "metadata": {},
   "outputs": [
    {
     "data": {
      "text/plain": [
       "'.\\\\dirname\\\\filename.txt'"
      ]
     },
     "execution_count": 32,
     "metadata": {},
     "output_type": "execute_result"
    }
   ],
   "source": [
    "import os\n",
    "os.path.join('.', 'dirname', 'filename.txt')"
   ]
  },
  {
   "cell_type": "markdown",
   "metadata": {},
   "source": [
    "### Запис в файл"
   ]
  },
  {
   "cell_type": "code",
   "execution_count": 8,
   "metadata": {},
   "outputs": [],
   "source": [
    "ouf = open('file.txt', 'w')\n",
    "ouf.write('Some text\\n')\n",
    "ouf.write(str(25))\n",
    "ouf.close()\n",
    "with open('text.txt', 'w') as ouf:\n",
    "    ouf.write('Some text\\n')\n",
    "    ouf.write(str(25))\n",
    "    \n",
    "# здесь файл уже закрыт"
   ]
  },
  {
   "cell_type": "code",
   "execution_count": 50,
   "metadata": {},
   "outputs": [
    {
     "name": "stdout",
     "output_type": "stream",
     "text": [
      "D15H13t4k15L16a16K2V1o6l17y2t11U12V19f14N6D10C13L9N18O12q4h13y15H16\n",
      "\n",
      "['15', '13', '4', '15', '16', '16', '2', '1', '6', '17', '2', '11', '12', '19', '14', '6', '10', '13', '9', '18', '12', '4', '13', '15', '16']\n",
      "['D', 'H', 't', 'k', 'L', 'a', 'K', 'V', 'o', 'l', 'y', 't', 'U', 'V', 'f', 'N', 'D', 'C', 'L', 'N', 'O', 'q', 'h', 'y', 'H']\n",
      "DDDDDDDDDDDDDDDHHHHHHHHHHHHHttttkkkkkkkkkkkkkkkLLLLLLLLLLLLLLLLaaaaaaaaaaaaaaaaKKVoooooolllllllllllllllllyytttttttttttUUUUUUUUUUUUVVVVVVVVVVVVVVVVVVVffffffffffffffNNNNNNDDDDDDDDDDCCCCCCCCCCCCCLLLLLLLLLNNNNNNNNNNNNNNNNNNOOOOOOOOOOOOqqqqhhhhhhhhhhhhhyyyyyyyyyyyyyyyHHHHHHHHHHHHHHHH"
     ]
    }
   ],
   "source": [
    "inf = open('dataset_3363_2.txt', 'r')\n",
    "s1 = inf.readline().strip()\n",
    "inf.close()\n",
    "\n",
    "print(s1)\n",
    "\n",
    "values = []\n",
    "numbers = []\n",
    "\n",
    "i = 0\n",
    "while i < len(s1):\n",
    "    if s1[i].isdigit():\n",
    "        if i != len(s1) - 1:\n",
    "            if s1[i+1].isdigit():\n",
    "                numbers.append(s1[i]+s1[i+1])\n",
    "                i += 1\n",
    "            else:\n",
    "                numbers.append(s1[i])\n",
    "        else:\n",
    "            numbers.append(s1[i]) \n",
    "    else:\n",
    "        values.append(s1[i])\n",
    "    i += 1\n",
    "    if i == len(s1):\n",
    "        \n",
    "        break\n",
    "print()\n",
    "print(numbers)\n",
    "print(values)\n",
    "\n",
    "string = \"\"\n",
    "for i in range(len(values)):\n",
    "    print(values[i].__str__() * int(numbers[i]), end = \"\")\n",
    "\n",
    "with open('result.txt', 'w') as ouf:\n",
    "    for i in range(len(values)):\n",
    "        ouf.write((values[i].__str__() * int(numbers[i])).__str__())\n"
   ]
  },
  {
   "cell_type": "code",
   "execution_count": 17,
   "metadata": {
    "scrolled": true
   },
   "outputs": [
    {
     "name": "stdout",
     "output_type": "stream",
     "text": [
      "{'x': 4, 'upttbx': 1, 'yytxbudc': 3, 'tpptxbt': 1, 'cuyy': 1, 'ptpczbu': 2, 'apzbptt': 2, 'cb': 1, 'bpaa': 1, 'yapyxudcz': 1, 'ydztbxydz': 2, 'audztcuyu': 1, 'bdcb': 2, 'yzd': 1, 'xbpac': 1, 'daxpzay': 1, 'cpxuuyzd': 1, 'yp': 1, 'ybpdczazp': 1, 'cccu': 1, 'xpbxxtddz': 1, 'cuypycby': 1, 'pzbzyu': 1, 'xuay': 4, 'zx': 1, 'ccuccud': 7, 'upx': 6, 'bupazbb': 4, 'yzaddttp': 1, 'xtbbbypb': 1, 'xpaut': 1, 'ztczxxxb': 1, 'pzxza': 1, 'zapu': 1, 'u': 11, 'ct': 1, 'aubcypp': 1, 'z': 3, 'txxayxxcp': 1, 'yyxcbbxa': 3, 'apdbzcb': 2, 'dbayd': 1, 'pdbyzbxc': 1, 'xupaptcy': 1, 'cx': 1, 'upd': 2, 'aztt': 1, 'ybzpdp': 2, 'tupc': 2, 'a': 5, 'txx': 2, 'c': 4, 'xuyt': 1, 'updzpapz': 7, 'aazyxtaa': 1, 'pcxpyyacb': 1, 'zuzpdcxaz': 1, 'uttu': 3, 'yuuuyxtyy': 1, 'uzxdacucz': 1, 'yyd': 2, 'pabtux': 1, 'abbx': 1, 'cuccz': 2, 'udpd': 1, 'zzcd': 1, 'cbzucattp': 1, 'abpaxyu': 1, 'dycadacy': 1, 'xbuy': 2, 'aypa': 1, 'xau': 1, 'uaubdtz': 1, 'ttxyu': 1, 'uyxdccdzy': 1, 'yzc': 7, 'ztzxdz': 1, 'bdtzxxcay': 2, 'ptuydpzzx': 1, 'xcpxaaud': 2, 'abzdu': 1, 'yzzdz': 1, 'cbtyz': 4, 'aztutatbp': 1, 'xypcb': 2, 'axxy': 1, 'xbabttzyy': 1, 'dtdd': 1, 'xupyzd': 3, 'cz': 1, 'dpzuaxut': 1, 'btutp': 1, 'cbx': 1, 'ztbdba': 1, 'utbz': 1, 't': 5, 'xztytbtyc': 1, 'ztuyccya': 1, 'ytxtu': 1, 'udy': 1, 'pp': 1, 'cpxyy': 1, 'yxy': 1, 'uxcutczz': 1, 'tctxcca': 5, 'bau': 2, 'yyxpytz': 1, 'ddt': 2, 'zxuc': 1, 'ctbcctbu': 3, 'tca': 1, 'tauypx': 1, 'dcuctppz': 1, 'ztpt': 1, 'yc': 2, 'bydcxa': 1, 'ucdzuzbc': 1, 'pxtdttu': 1, 'ba': 1, 'byut': 1, 'ax': 1, 'zc': 1, 'cdztautt': 1, 'tabapzpxa': 1, 'axpayb': 6, 'tdtubptty': 1, 'xxyax': 1, 'uyt': 1, 'ttpydcdxx': 1, 'cupudu': 1, 'utzz': 1, 'dcyptupz': 2, 'aauut': 2, 'y': 1, 'bcxppzuyy': 1, 'aducy': 1, 'abdyz': 1, 'daaxxu': 1, 'dzabczp': 4, 'p': 2, 'yubpp': 2, 'dycx': 1, 'cpycddzyd': 2, 'butzxu': 1, 'txyczba': 1, 'zctdyt': 2, 'za': 1, 'axauzxc': 1, 'ub': 1, 'pdaatyaxb': 1, 'bcapuutzb': 1}\n",
      "u\n",
      "11\n"
     ]
    }
   ],
   "source": [
    "# inf = open('file.txt', 'r')\n",
    "# s1 = inf.readline().strip()\n",
    "# inf.close()\n",
    "\n",
    "with open('dataset_3363_3.txt', 'r') as myfile:\n",
    "    data = ' '.join(line.replace('\\n', '') for line in myfile)\n",
    "\n",
    "# print(data)\n",
    "\n",
    "words = data.lower().split()\n",
    "\n",
    "d = {x:words.count(x) for x in words}\n",
    "print(d)\n",
    "\n",
    "print(max(d, key=d.get))\n",
    "a = max(d, key=d.get)\n",
    "print(d[a])"
   ]
  },
  {
   "cell_type": "code",
   "execution_count": 162,
   "metadata": {},
   "outputs": [
    {
     "name": "stdout",
     "output_type": "stream",
     "text": [
      "85.0\n",
      "94.0\n",
      "71.66666666666667\n",
      "81.0 84.0 85.66666666666667 \n",
      "81.0 84.0 85.66666666666667\n"
     ]
    }
   ],
   "source": [
    "lst = []\n",
    "with open('text.txt', 'r') as myfile:\n",
    "    for line in myfile:\n",
    "        line = line.replace('\\n', '').split(';')\n",
    "        lst.append(line)\n",
    "    \n",
    "# print(len(lst))\n",
    "# print(lst)\n",
    "\n",
    "# print(type(lst))\n",
    "sum = 0\n",
    "for i in range(len(lst)):\n",
    "    for j in range(1, len(lst[i])):\n",
    "        sum += int(lst[i][j])\n",
    "    print(sum/3)\n",
    "    sum = 0\n",
    "\n",
    "# print(map(sum, zip(*lst)))\n",
    "temp_1 = 0\n",
    "for i in range(0, len(lst)):\n",
    "    temp_1 += (int(lst[i][1]))\n",
    "col_1 = temp_1 / len(lst)\n",
    "\n",
    "temp_2 = 0\n",
    "for i in range(0, len(lst)):\n",
    "    temp_2 += (int(lst[i][2]))\n",
    "col_2 = temp_2 / len(lst)\n",
    "\n",
    "temp_3 = 0\n",
    "for i in range(0, len(lst)):\n",
    "    temp_3 += (int(lst[i][3]))\n",
    "col_3 = temp_3 / len(lst)\n",
    "\n",
    "temp = 0\n",
    "for i in range(1, len(lst[0])):\n",
    "    for j in range(0, len(lst)):\n",
    "        temp += (int(lst[j][i]))\n",
    "    col = temp / len(lst)\n",
    "    print(col, end = \" \")\n",
    "    temp = 0\n",
    "\n",
    "print()\n",
    "# col_1 = (int(lst[0][1]) + int(lst[1][1]) + int(lst[2][1])) / 3\n",
    "# col_2 = (int(lst[0][2]) + int(lst[1][2]) + int(lst[2][2])) / 3\n",
    "# col_3 = (int(lst[0][3]) + int(lst[1][3]) + int(lst[2][3])) / 3\n",
    "print(\"{0} {1} {2}\".format(col_1, col_2, col_3))"
   ]
  },
  {
   "cell_type": "markdown",
   "metadata": {},
   "source": [
    "### Модулі"
   ]
  },
  {
   "cell_type": "code",
   "execution_count": 3,
   "metadata": {},
   "outputs": [
    {
     "name": "stdout",
     "output_type": "stream",
     "text": [
      "1523861611.7849927\n",
      "C:\\Users\\Администратор\n",
      "uname_result(system='Windows', node='SENSBoD-ПК', release='7', version='6.1.7601', machine='AMD64', processor='AMD64 Family 16 Model 4 Stepping 3, AuthenticAMD')\n"
     ]
    }
   ],
   "source": [
    "import time, os\n",
    "import time\n",
    "import os\n",
    "import platform\n",
    "\n",
    "print(time.time())\n",
    "print(os.getcwd())\n",
    "print(platform.uname())"
   ]
  },
  {
   "cell_type": "code",
   "execution_count": 2,
   "metadata": {},
   "outputs": [
    {
     "name": "stdout",
     "output_type": "stream",
     "text": [
      "0.9861578105564901\n",
      "88\n"
     ]
    }
   ],
   "source": [
    "import random as r\n",
    "print(r.random())\n",
    "print(r.randrange(0, 101, 2)) # парні від 0 до 100"
   ]
  },
  {
   "cell_type": "code",
   "execution_count": 7,
   "metadata": {},
   "outputs": [
    {
     "name": "stdout",
     "output_type": "stream",
     "text": [
      "10.0\n",
      "62.83185307179586\n"
     ]
    }
   ],
   "source": [
    "import math\n",
    "r = float(input())\n",
    "print(2 * math.pi * r)"
   ]
  },
  {
   "cell_type": "code",
   "execution_count": 13,
   "metadata": {},
   "outputs": [
    {
     "name": "stdout",
     "output_type": "stream",
     "text": [
      "-f C:\\Users\\Администратор\\AppData\\Roaming\\jupyter\\runtime\\kernel-b42fdd8a-0514-4c78-9729-abeb63ff3414.json "
     ]
    }
   ],
   "source": [
    "import sys\n",
    "lst = sys.argv\n",
    "for i in range(1, len(lst)):\n",
    "    print(lst[i], end = \" \")"
   ]
  },
  {
   "cell_type": "code",
   "execution_count": 17,
   "metadata": {},
   "outputs": [],
   "source": [
    "import requests"
   ]
  },
  {
   "cell_type": "code",
   "execution_count": 19,
   "metadata": {},
   "outputs": [
    {
     "data": {
      "text/plain": [
       "'2.18.4'"
      ]
     },
     "execution_count": 19,
     "metadata": {},
     "output_type": "execute_result"
    }
   ],
   "source": [
    "requests.__version__"
   ]
  },
  {
   "cell_type": "code",
   "execution_count": 20,
   "metadata": {
    "scrolled": false
   },
   "outputs": [
    {
     "name": "stdout",
     "output_type": "stream",
     "text": [
      "<!DOCTYPE HTML PUBLIC \"-//W3C//DTD HTML 4.0 Transitional//EN\">\n",
      "<html>\n",
      "<head>\n",
      "<title>Example Website, Exmple Website - Exmple.com</title>\n",
      "  <meta name=\"description\" content=\"This is an example website that can be used as a demo when creating a dummy link for demonstration purposes.\">\n",
      "  <meta name=\"keywords\" content=\"Exmple,Example,Exmple.com\">\n",
      "</head>\n",
      "\n",
      "<body>\n",
      "\n",
      "<center><table style=\"margin-top: 2px\" width=640><tr><td>\n",
      "\n",
      "<h2>Example Website</h2>\n",
      "\n",
      "<p>This is an example website that can be used to demonstrate links without really linking\n",
      "    to any real site. The domains example.com, example.net and example.org are reserved\n",
      "    and cannot be followed through a link, while this misspelled domain exmple.com work\n",
      "    as intended when linked to.\n",
      "    \n",
      "\n",
      "<p>The main page if this example website is located at <a href=\"http://www.exmple.com\">Exmple, Example</a>\n",
      "    and is not much different from this page\n",
      "\n",
      "    \n",
      "<p>The following links are examples of websites on the internet:\n",
      "\n",
      "<ul>\n",
      "    <li><a href=\"http://www.secretsearchenginelabs.com/webmaster-tools\">Webmaster Tools</a></li>\n",
      "    <li>Convert <a href=\"http://www.milesgallon.com/convert-l-100km-to-mpg-to-kpl.php\">MPG to KPL</a></li>\n",
      "    <li><a href=\"http://www.91cheesecakerecipes.com/strawberry-cheesecake-recipe.php\">Strawberry Cheesecake Recipe</a></li>\n",
      "    <li><a href=\"http://www.laundrycaresymbols.com\">Washing Machine Symbols</a></li>\n",
      "    <li><a href=\"http://www.simonbyholm.com/2010/jiggling-the-web-for-instant-search-engine-ranking/\">Jiggling the Web for Nearly Instant Search Engine Rankings</a></li>\n",
      "    <li><a href=\"http://www.mustettatulostimeen.com\">Tulostimen Mustetta</a></li>\n",
      "</ul>            \n",
      "\n",
      "</td></tr></table></center>\n",
      "\n",
      "<!-- Start of StatCounter Code -->\n",
      "<script type=\"text/javascript\">\n",
      "var sc_project=5483094; \n",
      "var sc_invisible=1; \n",
      "var sc_partition=60; \n",
      "var sc_click_stat=1; \n",
      "var sc_security=\"dc467e28\"; \n",
      "</script>\n",
      "\n",
      "<script type=\"text/javascript\"\n",
      "src=\"http://www.statcounter.com/counter/counter.js\"></script><noscript><div\n",
      "class=\"statcounter\"><a title=\"counter customisable\"\n",
      "href=\"http://www.statcounter.com/free_hit_counter.html\"\n",
      "target=\"_blank\"><img class=\"statcounter\"\n",
      "src=\"http://c.statcounter.com/5483094/0/dc467e28/1/\"\n",
      "alt=\"counter customisable\" ></a></div></noscript>\n",
      "<!-- End of StatCounter Code -->\n",
      "\n",
      "</body>\n",
      "\n",
      "</html>\n",
      "\n"
     ]
    }
   ],
   "source": [
    "r = requests.get(\"http://exmple.com\")\n",
    "print(r.text)"
   ]
  },
  {
   "cell_type": "code",
   "execution_count": 22,
   "metadata": {},
   "outputs": [
    {
     "name": "stdout",
     "output_type": "stream",
     "text": [
      "http://example.com/?key1=value1&key2=value2\n"
     ]
    }
   ],
   "source": [
    "url = \"http://example.com\"\n",
    "par = {\"key1\" : \"value1\", \"key2\" : \"value2\"}\n",
    "r = requests.get(url, params=par)\n",
    "print(r.url)"
   ]
  },
  {
   "cell_type": "code",
   "execution_count": 45,
   "metadata": {},
   "outputs": [
    {
     "name": "stdout",
     "output_type": "stream",
     "text": [
      "242\n",
      "\"Wh\n"
     ]
    }
   ],
   "source": [
    "import requests\n",
    "url = 'https://stepic.org/media/attachments/course67/3.6.2/050.txt'\n",
    "r = requests.get(url, allow_redirects=True)\n",
    "# print(r.text)\n",
    "string = r.text.splitlines()\n",
    "string_2 = r.text\n",
    "count = 0\n",
    "for i in string:\n",
    "    count += 1\n",
    "print(count)\n",
    "\n",
    "# print(string_2[1:4])"
   ]
  },
  {
   "cell_type": "code",
   "execution_count": 2,
   "metadata": {
    "scrolled": true
   },
   "outputs": [
    {
     "name": "stdout",
     "output_type": "stream",
     "text": [
      "213837.txt\n",
      "1\n",
      "2\n",
      "3\n",
      "4\n",
      "5\n",
      "6\n",
      "7\n",
      "8\n",
      "9\n",
      "10\n",
      "11\n",
      "12\n",
      "13\n",
      "14\n",
      "15\n",
      "16\n",
      "17\n",
      "18\n",
      "19\n",
      "20\n",
      "21\n",
      "22\n",
      "23\n",
      "24\n",
      "25\n",
      "26\n",
      "27\n",
      "28\n",
      "29\n",
      "30\n",
      "31\n",
      "32\n",
      "33\n",
      "34\n",
      "35\n",
      "36\n",
      "37\n",
      "38\n",
      "39\n",
      "40\n",
      "41\n",
      "42\n",
      "43\n",
      "44\n",
      "45\n",
      "46\n",
      "47\n",
      "48\n",
      "49\n",
      "50\n",
      "51\n",
      "52\n",
      "53\n",
      "54\n",
      "55\n",
      "56\n",
      "57\n",
      "58\n",
      "59\n",
      "60\n",
      "61\n",
      "62\n",
      "63\n",
      "64\n",
      "65\n",
      "66\n",
      "67\n",
      "68\n",
      "69\n",
      "70\n",
      "71\n",
      "72\n",
      "73\n",
      "74\n",
      "75\n",
      "76\n",
      "77\n",
      "78\n",
      "79\n",
      "80\n",
      "81\n",
      "82\n",
      "83\n",
      "84\n",
      "85\n",
      "86\n",
      "87\n",
      "88\n",
      "89\n",
      "90\n",
      "91\n",
      "92\n",
      "93\n",
      "94\n",
      "95\n",
      "96\n",
      "97\n",
      "98\n",
      "99\n",
      "100\n",
      "101\n",
      "102\n",
      "103\n",
      "104\n",
      "105\n",
      "106\n",
      "107\n",
      "108\n",
      "109\n",
      "110\n",
      "111\n",
      "112\n",
      "113\n",
      "114\n",
      "115\n",
      "116\n",
      "117\n",
      "118\n",
      "119\n",
      "120\n",
      "121\n",
      "122\n",
      "123\n",
      "124\n",
      "125\n",
      "126\n",
      "127\n",
      "128\n",
      "129\n",
      "130\n",
      "131\n",
      "132\n",
      "133\n",
      "134\n",
      "135\n",
      "136\n",
      "137\n",
      "138\n",
      "139\n",
      "140\n",
      "141\n",
      "142\n",
      "143\n",
      "144\n",
      "145\n",
      "146\n",
      "147\n",
      "148\n",
      "149\n",
      "150\n",
      "151\n",
      "152\n",
      "153\n",
      "154\n",
      "155\n",
      "156\n",
      "157\n",
      "158\n",
      "159\n",
      "160\n",
      "161\n",
      "162\n",
      "163\n",
      "164\n",
      "165\n",
      "166\n",
      "167\n",
      "168\n",
      "169\n",
      "170\n",
      "171\n",
      "172\n",
      "173\n",
      "174\n",
      "175\n",
      "176\n",
      "177\n",
      "178\n",
      "179\n",
      "180\n",
      "181\n",
      "182\n",
      "183\n",
      "184\n",
      "185\n",
      "186\n",
      "187\n",
      "188\n",
      "189\n",
      "190\n",
      "191\n",
      "192\n",
      "193\n",
      "194\n",
      "195\n",
      "196\n",
      "197\n",
      "198\n",
      "199\n",
      "200\n",
      "201\n",
      "202\n",
      "203\n",
      "204\n",
      "205\n",
      "206\n",
      "207\n",
      "208\n",
      "209\n",
      "210\n",
      "211\n",
      "212\n",
      "213\n",
      "214\n",
      "215\n",
      "216\n",
      "217\n",
      "218\n",
      "219\n",
      "220\n",
      "221\n",
      "222\n",
      "223\n",
      "224\n",
      "225\n",
      "226\n",
      "227\n",
      "228\n",
      "229\n",
      "230\n",
      "231\n",
      "232\n",
      "233\n",
      "234\n",
      "235\n",
      "236\n",
      "237\n",
      "238\n",
      "239\n",
      "240\n",
      "241\n",
      "242\n",
      "243\n",
      "244\n",
      "245\n",
      "246\n",
      "247\n",
      "248\n",
      "249\n",
      "We are the champions, my friends,\n",
      "And we'll keep on fighting 'til the end.\n",
      "We are the champions.\n",
      "We are the champions.\n",
      "No time for losers\n",
      "'Cause we are the champions of the world.\n"
     ]
    }
   ],
   "source": [
    "import requests\n",
    "url = 'https://stepic.org/media/attachments/course67/3.6.3/699991.txt'\n",
    "r = requests.get(url, allow_redirects=True)\n",
    "print(r.text)\n",
    "string = r.text\n",
    "count = 0\n",
    "while string[0].isdigit():\n",
    "    count += 1\n",
    "    print(count)\n",
    "    url = 'https://stepic.org/media/attachments/course67/3.6.3/' + string\n",
    "    r = requests.get(url, allow_redirects=True)\n",
    "    string = r.text\n",
    "    \n",
    "print(string)"
   ]
  },
  {
   "cell_type": "markdown",
   "metadata": {},
   "source": [
    "### Задачі по матеріалу"
   ]
  },
  {
   "cell_type": "markdown",
   "metadata": {},
   "source": [
    "### Задача 1"
   ]
  },
  {
   "cell_type": "markdown",
   "metadata": {},
   "source": [
    "Напишите программу, которая принимает на стандартный вход список игр футбольных команд с результатом матча и выводит на стандартный вывод сводную таблицу результатов всех матчей.\n",
    "\n",
    "За победу команде начисляется 3 очка, за поражение — 0, за ничью — 1.\n",
    "\n",
    "Формат ввода следующий:\n",
    "В первой строке указано целое число n — количество завершенных игр.\n",
    "После этого идет n строк, в которых записаны результаты игры в следующем формате:\n",
    "Первая_команда;Забито_первой_командой;Вторая_команда;Забито_второй_командой\n",
    "\n",
    "Вывод программы необходимо оформить следующим образом:\n",
    "Команда:Всего_игр Побед Ничьих Поражений Всего_очков\n",
    "\n",
    "Конкретный пример ввода-вывода приведён ниже.\n",
    "\n",
    "Порядок вывода команд произвольный."
   ]
  },
  {
   "cell_type": "code",
   "execution_count": 37,
   "metadata": {},
   "outputs": [
    {
     "name": "stdout",
     "output_type": "stream",
     "text": [
      "3\n",
      "Зенит;3;Спартак;1\n",
      "Спартак;1;ЦСКА;1\n",
      "ЦСКА;0;Зенит;2\n",
      "Зенит:2 2 0 0 6 \n",
      "Спартак:2 0 1 1 1 \n",
      "ЦСКА:2 0 1 1 1 \n"
     ]
    }
   ],
   "source": [
    "n = int(input())\n",
    "lst = []\n",
    "d = dict()\n",
    "\n",
    "def add_to_dict(s):\n",
    "    lst = str(s).split(\";\")\n",
    "    if lst[1] > lst[3]:\n",
    "#         print(\"first team\")\n",
    "        if lst[0] not in d:\n",
    "            d[lst[0]] = {\"total\":1, \"win\":1, \"equal\":0, \"lose\":0, \"points\":3}\n",
    "        else:\n",
    "            d[lst[0]][\"total\"] += 1\n",
    "            d[lst[0]][\"win\"] += 1\n",
    "            d[lst[0]][\"points\"] += 3\n",
    "        if lst[2] not in d:\n",
    "            d[lst[2]] = {\"total\":1, \"win\":0, \"equal\":0, \"lose\":1, \"points\":0}\n",
    "        else:\n",
    "            d[lst[2]][\"total\"] += 1\n",
    "            d[lst[2]][\"lose\"] += 1\n",
    "            d[lst[2]][\"points\"] += 0\n",
    "    elif lst[1] < lst[3]:\n",
    "#         print(\"second team\")\n",
    "        if lst[0] not in d:\n",
    "            d[lst[0]] = {\"total\":1, \"win\":0, \"equal\":0, \"lose\":1, \"points\":0}\n",
    "        else:\n",
    "            d[lst[0]][\"total\"] += 1\n",
    "            d[lst[0]][\"lose\"] += 1\n",
    "            d[lst[0]][\"points\"] += 0\n",
    "        if lst[2] not in d:\n",
    "            d[lst[2]] = {\"total\":1, \"win\":1, \"equal\":0, \"lose\":0, \"points\":3}\n",
    "        else:\n",
    "            d[lst[2]][\"total\"] += 1\n",
    "            d[lst[2]][\"win\"] += 1\n",
    "            d[lst[2]][\"points\"] += 3\n",
    "    else:\n",
    "#         print(\"equal\")\n",
    "        if lst[0] not in d:\n",
    "            d[lst[0]] = {\"total\":1, \"win\":0, \"equal\":1, \"lose\":0, \"points\":1}\n",
    "        else:\n",
    "            d[lst[0]][\"total\"] += 1\n",
    "            d[lst[0]][\"equal\"] += 1\n",
    "            d[lst[0]][\"points\"] += 1\n",
    "        if lst[2] not in d:\n",
    "            d[lst[2]] = {\"total\":1, \"win\":0, \"equal\":1, \"lose\":0, \"points\":1}\n",
    "        else:\n",
    "            d[lst[2]][\"total\"] += 1\n",
    "            d[lst[2]][\"equal\"] += 1\n",
    "            d[lst[2]][\"points\"] += 1\n",
    "        \n",
    "i = 0\n",
    "while i < n:\n",
    "    s = input()\n",
    "    add_to_dict(s)\n",
    "    i += 1\n",
    "    \n",
    "for x in d:\n",
    "    print (str(x) + \":\", end = \"\")\n",
    "    for y in d[x]:\n",
    "        print (d[x][y], end = \" \")\n",
    "    print()"
   ]
  },
  {
   "cell_type": "markdown",
   "metadata": {},
   "source": [
    "### Задача 2"
   ]
  },
  {
   "cell_type": "markdown",
   "metadata": {},
   "source": [
    "В какой-то момент в Институте биоинформатики биологи перестали понимать, что говорят информатики: они говорили каким-то странным набором звуков.\n",
    "\n",
    "В какой-то момент один из биологов раскрыл секрет информатиков: они использовали при общении подстановочный шифр, т.е. заменяли каждый символ исходного сообщения на соответствующий ему другой символ. Биологи раздобыли ключ к шифру и теперь нуждаются в помощи:\n",
    "\n",
    "Напишите программу, которая умеет шифровать и расшифровывать шифр подстановки. Программа принимает на вход две строки одинаковой длины, на первой строке записаны символы исходного алфавита, на второй строке — символы конечного алфавита, после чего идёт строка, которую нужно зашифровать переданным ключом, и ещё одна строка, которую нужно расшифровать.\n",
    "\n",
    "Пусть, например, на вход программе передано:\n",
    "abcd\n",
    "\n",
    "*d%#\n",
    "\n",
    "abacabadaba\n",
    "\n",
    "#*%*d*%\n",
    "\n",
    "Это значит, что символ a исходного сообщения заменяется на символ * в шифре, b заменяется на d, c — на % и d — на #.\n",
    "Нужно зашифровать строку abacabadaba и расшифровать строку #*%*d*% с помощью этого шифра. Получаем следующие строки, которые и передаём на вывод программы:\n",
    "\n",
    "*d*%*d*#*d*\n",
    "\n",
    "dacabac"
   ]
  },
  {
   "cell_type": "code",
   "execution_count": 45,
   "metadata": {},
   "outputs": [
    {
     "name": "stdout",
     "output_type": "stream",
     "text": [
      "abcd\n",
      "*d%#\n",
      "abacabadaba\n",
      "#*%*d*%\n",
      "*d*%*d*#*d*\n",
      "dacabac"
     ]
    }
   ],
   "source": [
    "a = input()\n",
    "b = input()\n",
    "c = input()\n",
    "d = input()\n",
    "list_a = list(a)\n",
    "list_b = list(b)\n",
    "list_c = list(c)\n",
    "list_d = list(d)\n",
    "d = dict()\n",
    "for i in range(len(list_a)):\n",
    "    d.update({list_a[i]: list_b[i]})\n",
    "# print(d)\n",
    "for i in range(len(list_c)):\n",
    "    list_c[i] = d[list_c[i]]\n",
    "    print(list_c[i], end = \"\")\n",
    "print()\n",
    "d2 = dict((v, k) for k, v in d.items())\n",
    "# print(d2)\n",
    "for i in range(len(list_d)):\n",
    "    list_d[i] = d2[list_d[i]]\n",
    "    print(list_d[i], end = \"\")\n"
   ]
  },
  {
   "cell_type": "markdown",
   "metadata": {},
   "source": [
    "### Задача 3"
   ]
  },
  {
   "cell_type": "markdown",
   "metadata": {},
   "source": [
    "Простейшая система проверки орфографии основана на использовании списка известных слов. Каждое слово в проверяемом тексте ищется в этом списке и, если такое слово не найдено, оно помечается, как ошибочное.\n",
    "\n",
    "Напишем подобную систему.\n",
    "\n",
    "Через стандартный ввод подаётся следующая структура: первой строкой — количество d записей в списке известных слов, после передаётся  d строк с одним словарным словом на строку, затем — количество l строк текста, после чего — l строк текста.\n",
    "\n",
    "Напишите программу, которая выводит слова из текста, которые не встречаются в словаре. Регистр слов не учитывается. Порядок вывода слов произвольный. Слова, не встречающиеся в словаре, не должны повторяться в выводе программы."
   ]
  },
  {
   "cell_type": "code",
   "execution_count": 4,
   "metadata": {
    "scrolled": true
   },
   "outputs": [
    {
     "name": "stdout",
     "output_type": "stream",
     "text": [
      "3\n",
      "a\n",
      "bb\n",
      "ccC\n",
      "['a', 'bb', 'ccc']\n",
      "2\n",
      "a bb aab aba ccc\n",
      "c bb aaa\n",
      "['a', 'bb', 'aab', 'aba', 'ccc', 'c', 'bb', 'aaa']\n",
      "{'c', 'bb', 'ccc', 'aba', 'aab', 'aaa', 'a'}\n",
      "c\n",
      "aba\n",
      "aab\n",
      "aaa\n"
     ]
    }
   ],
   "source": [
    "d = int(input())\n",
    "lst_d = []\n",
    "i = 0\n",
    "while i < d:\n",
    "    word = input().lower()\n",
    "    lst_d.append(word) \n",
    "    i += 1\n",
    "print(lst_d)\n",
    "\n",
    "l = int(input())\n",
    "lst_l = []\n",
    "j = 0\n",
    "while j < l:\n",
    "    line = input().lower().split()\n",
    "    for i in line:\n",
    "        lst_l.append(i)\n",
    "    j += 1\n",
    "print(lst_l)\n",
    "set_l = set(lst_l)\n",
    "print(set_l)\n",
    "for i in set_l:\n",
    "    if i not in lst_d:\n",
    "        print(i)"
   ]
  },
  {
   "cell_type": "markdown",
   "metadata": {},
   "source": [
    "### Задача 4"
   ]
  },
  {
   "cell_type": "markdown",
   "metadata": {},
   "source": [
    "Группа биологов в институте биоинформатики завела себе черепашку.\n",
    "\n",
    "После дрессировки черепашка научилась понимать и запоминать указания биологов следующего вида:\n",
    "\n",
    "север 10\n",
    "\n",
    "запад 20\n",
    "\n",
    "юг 30\n",
    "\n",
    "восток 40\n",
    "\n",
    "где первое слово — это направление, в котором должна двигаться черепашка, а число после слова — это положительное расстояние в сантиметрах, которое должна пройти черепашка.\n",
    "\n",
    "Но команды даются быстро, а черепашка ползёт медленно, и программисты догадались, что можно написать программу, которая определит, куда в итоге биологи приведут черепашку. Для этого программисты просят вас написать программу, которая выведет точку, в которой окажется черепашка после всех команд. Для простоты они решили считать, что движение начинается в точке (0, 0), и движение на восток увеличивает первую координату, а на север — вторую.\n",
    "\n",
    "Программе подаётся на вход число команд n, которые нужно выполнить черепашке, после чего n строк с самими командами. Вывести нужно два числа в одну строку: первую и вторую координату конечной точки черепашки. Все координаты целочисленные."
   ]
  },
  {
   "cell_type": "code",
   "execution_count": 8,
   "metadata": {},
   "outputs": [
    {
     "name": "stdout",
     "output_type": "stream",
     "text": [
      "4\n",
      "север 10\n",
      "запад 20\n",
      "юг 30\n",
      "восток 40\n",
      "20 -20\n"
     ]
    }
   ],
   "source": [
    "n = int(input())\n",
    "x = 0\n",
    "y = 0\n",
    "lst = []\n",
    "i = 0\n",
    "while i < n:\n",
    "    lst = input().split()\n",
    "    if lst[0] == \"восток\":\n",
    "        x += int(lst[1])\n",
    "    if lst[0] == \"запад\":\n",
    "        x -= int(lst[1])\n",
    "    if lst[0] == \"север\":\n",
    "        y += int(lst[1])\n",
    "    if lst[0] == \"юг\":\n",
    "        y -= int(lst[1])\n",
    "    i += 1\n",
    "print(str(x) + \" \" + str(y))"
   ]
  },
  {
   "cell_type": "markdown",
   "metadata": {},
   "source": [
    "### Задача 5"
   ]
  },
  {
   "cell_type": "markdown",
   "metadata": {},
   "source": [
    "Дан файл с таблицей в формате TSV с информацией о росте школьников разных классов.\n",
    "\n",
    "Напишите программу, которая прочитает этот файл и подсчитает для каждого класса средний рост учащегося.\n",
    "\n",
    "Файл состоит из набора строк, каждая из которых представляет собой три поля:\n",
    "Класс Фамилия Рост\n",
    "\n",
    "Класс обозначается только числом. Буквенные модификаторы не используются. Номер класса может быть от 1 до 11 включительно. В фамилии нет пробелов, а в качестве роста используется натуральное число, но при подсчёте среднего требуется вычислить значение в виде вещественного числа.\n",
    "\n",
    "Выводить информацию о среднем росте следует в порядке возрастания номера класса (для классов с первого по одиннадцатый). Если про какой-то класс нет информации, необходимо вывести напротив него прочерк."
   ]
  },
  {
   "cell_type": "code",
   "execution_count": 141,
   "metadata": {
    "scrolled": false
   },
   "outputs": [
    {
     "name": "stdout",
     "output_type": "stream",
     "text": [
      "0\n",
      "1     1119\n",
      "2      918\n",
      "3     1601\n",
      "4     1142\n",
      "5     1426\n",
      "6     2320\n",
      "7     1275\n",
      "8     1480\n",
      "9     1545\n",
      "10    1191\n",
      "11    1218\n",
      "Name: 2, dtype: int64\n",
      "1      9\n",
      "2      7\n",
      "3     12\n",
      "4      8\n",
      "5     10\n",
      "6     15\n",
      "7      8\n",
      "8      9\n",
      "9      9\n",
      "10     7\n",
      "11     7\n",
      "Name: 0, dtype: int64\n",
      "1 124.33333333333333\n",
      "2 131.14285714285714\n",
      "3 133.41666666666666\n",
      "4 142.75\n",
      "5 142.6\n",
      "6 154.66666666666666\n",
      "7 159.375\n",
      "8 164.44444444444446\n",
      "9 171.66666666666666\n",
      "10 170.14285714285714\n",
      "11 174.0\n"
     ]
    }
   ],
   "source": [
    "import csv\n",
    "\n",
    "# with open('dataset_3380_5.txt) as tsvfile:\n",
    "#     reader = csv.reader(tsvfile, delimiter='\\t')\n",
    "#     for row in reader:\n",
    "#         print(row)\n",
    "          \n",
    "with open('dataset_3380_5.txt','r') as tsv:\n",
    "    reader = [line.strip().split('\\t') for line in tsv]\n",
    "\n",
    "# for row in reader:\n",
    "#     print(row)\n",
    "\n",
    "import pandas as pd\n",
    "df = pd.read_csv(\"dataset_3380_5.txt\", delimiter = '\\t', header = None)\n",
    "# print(df)\n",
    "\n",
    "# print(df[0])\n",
    "\n",
    "# for row in df:\n",
    "#     print(row)\n",
    "\n",
    "# print(df[1][0])\n",
    "\n",
    "df_group = df.groupby(0)[2].sum()\n",
    "print(df_group)\n",
    "\n",
    "df_count = df[0].value_counts().sort_index()\n",
    "# df_count.sort_values(0)\n",
    "print(df_count)\n",
    "\n",
    "# for i in df[0]:\n",
    "#     print(i)\n",
    "\n",
    "for i in range(1, 12):\n",
    "    print(str(i) + \" \" + str(df_group[i] / df_count[i]))"
   ]
  }
 ],
 "metadata": {
  "kernelspec": {
   "display_name": "Python 3",
   "language": "python",
   "name": "python3"
  },
  "language_info": {
   "codemirror_mode": {
    "name": "ipython",
    "version": 3
   },
   "file_extension": ".py",
   "mimetype": "text/x-python",
   "name": "python",
   "nbconvert_exporter": "python",
   "pygments_lexer": "ipython3",
   "version": "3.6.4"
  }
 },
 "nbformat": 4,
 "nbformat_minor": 2
}
